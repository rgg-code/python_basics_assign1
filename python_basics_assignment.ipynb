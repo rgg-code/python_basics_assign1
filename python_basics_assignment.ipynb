{
  "nbformat": 4,
  "nbformat_minor": 0,
  "metadata": {
    "colab": {
      "provenance": []
    },
    "kernelspec": {
      "name": "python3",
      "display_name": "Python 3"
    },
    "language_info": {
      "name": "python"
    }
  },
  "cells": [
    {
      "cell_type": "markdown",
      "source": [
        "Python Basics."
      ],
      "metadata": {
        "id": "wfFs4k781K-v"
      }
    },
    {
      "cell_type": "markdown",
      "source": [
        "# 1. Write a Python program to print \"Hello, World!.\n"
      ],
      "metadata": {
        "id": "43uSvxU1pMnJ"
      }
    },
    {
      "cell_type": "code",
      "execution_count": null,
      "metadata": {
        "colab": {
          "base_uri": "https://localhost:8080/"
        },
        "id": "7AFzFthr1Ixw",
        "outputId": "6e2cbde1-d331-49db-fa21-a76a839571cb"
      },
      "outputs": [
        {
          "output_type": "stream",
          "name": "stdout",
          "text": [
            "Hello, World!\n"
          ]
        }
      ],
      "source": [
        "print(\"Hello, World!\")\n"
      ]
    },
    {
      "cell_type": "markdown",
      "source": [
        "# 2. Write a Python program that displays your name and age.\n"
      ],
      "metadata": {
        "id": "kajajHdOpXxZ"
      }
    },
    {
      "cell_type": "code",
      "source": [
        "name = \"Ram Gopal Gupta\"\n",
        "age = 25\n",
        "print(\"Name -\", name )\n",
        "print(\"Age -\", age)\n",
        "\n"
      ],
      "metadata": {
        "colab": {
          "base_uri": "https://localhost:8080/"
        },
        "id": "UgdSiSMBHJL1",
        "outputId": "113c18c6-1dac-49b6-9826-9deeeaeeff02"
      },
      "execution_count": null,
      "outputs": [
        {
          "output_type": "stream",
          "name": "stdout",
          "text": [
            "Name - Ram Gopal Gupta\n",
            "Age - 25\n"
          ]
        }
      ]
    },
    {
      "cell_type": "markdown",
      "source": [
        "# 3. Write code to print all the pre-defined keywords in Python using the keyword library.\n"
      ],
      "metadata": {
        "id": "XQZZkXlBqAj_"
      }
    },
    {
      "cell_type": "code",
      "source": [
        "import keyword\n",
        "\n",
        "print(keyword.kwlist)\n"
      ],
      "metadata": {
        "id": "wJ4cFsN6JBH2",
        "colab": {
          "base_uri": "https://localhost:8080/"
        },
        "outputId": "55a0d0a8-95e9-44a6-b4f3-56b259c7c44a"
      },
      "execution_count": null,
      "outputs": [
        {
          "output_type": "stream",
          "name": "stdout",
          "text": [
            "['False', 'None', 'True', 'and', 'as', 'assert', 'async', 'await', 'break', 'class', 'continue', 'def', 'del', 'elif', 'else', 'except', 'finally', 'for', 'from', 'global', 'if', 'import', 'in', 'is', 'lambda', 'nonlocal', 'not', 'or', 'pass', 'raise', 'return', 'try', 'while', 'with', 'yield']\n"
          ]
        }
      ]
    },
    {
      "cell_type": "markdown",
      "source": [
        "# 4. Write a program that checks if a given word is a Python keyword.\n"
      ],
      "metadata": {
        "id": "AC-0FRuMqo6D"
      }
    },
    {
      "cell_type": "code",
      "source": [
        "import keyword\n",
        "userInput = input(\"Enter  Word. \")\n",
        "if keyword.iskeyword(userInput):\n",
        "  print(f\"UserInput is a python keyword: {userInput}\")\n",
        "else:\n",
        "  print(f\"UserInput is not a python keyword: {userInput}\")\n",
        "\n",
        "\n",
        "# for index, value in enumerate(keywords):\n",
        "#   if value == userInput:\n",
        "#     print(f\"Given word is a Python keyword. - : {userInput}\")\n",
        "#     break\n",
        "#   else:\n",
        "#     print(f\"Given word '{userInput}' is NOT a Python keyword.\")\n"
      ],
      "metadata": {
        "id": "ADygrs9nJGji",
        "colab": {
          "base_uri": "https://localhost:8080/"
        },
        "outputId": "1fe1278d-e20c-42bc-b340-c70f47ed27f9"
      },
      "execution_count": null,
      "outputs": [
        {
          "output_type": "stream",
          "name": "stdout",
          "text": [
            "Enter  Word. raa\n",
            "UserInput is not a python keyword: raa\n"
          ]
        }
      ]
    },
    {
      "cell_type": "markdown",
      "source": [
        "# 5. Create a list and tuple in Python, and demonstrate how attempting to change an element works differently for each.\n"
      ],
      "metadata": {
        "id": "FjuRYqo3qzH6"
      }
    },
    {
      "cell_type": "code",
      "source": [
        "#mutable behavior\n",
        "fruits_list = ['apple', 'banana', 'mango', 'pineapple']\n",
        "\n",
        "fruits_list[1] = 'kiwi'\n",
        "print(fruits_list)\n",
        "\n",
        "# its behavior immutable\n",
        "fruits_tuple = ('apple', 'banana', 'mango', 'pineapple')\n",
        "\n",
        "# fruits_tuple[2] = 'kiwi'\n",
        "# print(fruits_tuple)\n",
        "\n",
        "#'tuple' object does not support item assignment\n"
      ],
      "metadata": {
        "id": "S1kKqCNzJKZH",
        "colab": {
          "base_uri": "https://localhost:8080/"
        },
        "outputId": "e04982c9-c0c3-412b-fa4e-0f1f1e4abe29"
      },
      "execution_count": 11,
      "outputs": [
        {
          "output_type": "stream",
          "name": "stdout",
          "text": [
            "['apple', 'kiwi', 'mango', 'pineapple']\n"
          ]
        }
      ]
    },
    {
      "cell_type": "markdown",
      "source": [
        "# 6.  Write a function to demonstrate the behavior of mutable and immutable arguments.\n"
      ],
      "metadata": {
        "id": "GwZ1JpS4q6WE"
      }
    },
    {
      "cell_type": "code",
      "source": [
        "#immutable behavior\n",
        "# tuple = (3,6,7)\n",
        "# tuple[0] = 2\n",
        "# print(tuple)\n",
        "\n",
        "# both object does not support item assignment\n",
        "\n",
        "# str = \"raghav\"\n",
        "# str[0] = 'R'\n",
        "# print(str)\n",
        "\n",
        "\n",
        "#mutable behavior\n",
        "# obj_list = ['r','a','g','h','a','v']\n",
        "# obj_list[0] = 'R'\n",
        "# print(obj_list)\n",
        "\n",
        "dict_obj = {\"Name\" : \"Ram\" , 'Age' : 36}\n",
        "dict_obj['Age'] = 24\n",
        "print(dict_obj)"
      ],
      "metadata": {
        "id": "RgdsW39JJXaN",
        "colab": {
          "base_uri": "https://localhost:8080/"
        },
        "outputId": "6387b2c6-610f-4579-aa1a-3ef86622d0bd"
      },
      "execution_count": 8,
      "outputs": [
        {
          "output_type": "stream",
          "name": "stdout",
          "text": [
            "{'Name': 'Ram', 'Age': 24}\n"
          ]
        }
      ]
    },
    {
      "cell_type": "markdown",
      "source": [
        "# 7. Write a function to demonstrate the behavior of mutable and immutable arguments.\n"
      ],
      "metadata": {
        "id": "Rb8ea0iEq-E8"
      }
    },
    {
      "cell_type": "code",
      "source": [
        "# same qustion no 6, 7.\n",
        "#ans is given in the question 6.\n",
        "\n"
      ],
      "metadata": {
        "id": "8VLn7PodJg4N"
      },
      "execution_count": null,
      "outputs": []
    },
    {
      "cell_type": "markdown",
      "source": [
        "# 8. Write a program to demonstrate the use of logical operators.\n"
      ],
      "metadata": {
        "id": "QHQI7RZkrC1L"
      }
    },
    {
      "cell_type": "code",
      "source": [
        "a = 10\n",
        "b = 10\n",
        "c = -10\n",
        "if a > 0 and b > 0:\n",
        "    print(\"The numbers are greater than 0\")\n",
        "if a > 0 and b > 0 and c > 0:\n",
        "    print(\"The numbers are greater than 0\")\n",
        "else:\n",
        "    print(\"Atleast one number is not greater than 0\")"
      ],
      "metadata": {
        "id": "x16QAa_1Jlb-",
        "colab": {
          "base_uri": "https://localhost:8080/"
        },
        "outputId": "8f82087e-b91a-4718-814e-b65be65c42ac"
      },
      "execution_count": null,
      "outputs": [
        {
          "output_type": "stream",
          "name": "stdout",
          "text": [
            "The numbers are greater than 0\n",
            "Atleast one number is not greater than 0\n"
          ]
        }
      ]
    },
    {
      "cell_type": "markdown",
      "source": [
        "# 9. Write a Python program to convert user input from string to integer, float, and boolean types.\n",
        "\n"
      ],
      "metadata": {
        "id": "eb9LJe1CrGh4"
      }
    },
    {
      "cell_type": "code",
      "source": [
        "user_input = input(\"enter the value \")\n",
        "\n",
        "try:\n",
        "  int_conv = int(user_input)\n",
        "  print(f\"Enter No is Integer : {int_conv}\")\n",
        "except:\n",
        "  print(\"Enter Value is not conv\")\n",
        "try:\n",
        "  float_conv = float(user_input)\n",
        "  print(f\"Enter No is Float : {float_conv}\")\n",
        "except:\n",
        "  print(\"Enter Value is not conv \")\n",
        "if user_input.lower() in ['true', 'false']:\n",
        "        boolean_value = user_input.lower() == 'true'\n",
        "        print(f\"Converted to boolean: {boolean_value}\")\n",
        "else:\n",
        "        print(\"Enter Value not conv.\")\n"
      ],
      "metadata": {
        "id": "F5c8gB0KJtA5",
        "colab": {
          "base_uri": "https://localhost:8080/"
        },
        "outputId": "2fdc0efc-068a-4f89-af3f-08deae914c1c"
      },
      "execution_count": 25,
      "outputs": [
        {
          "output_type": "stream",
          "name": "stdout",
          "text": [
            "enter the value true\n",
            "Enter Value is not conv\n",
            "Enter Value is not conv \n",
            "Converted to boolean: True\n"
          ]
        }
      ]
    },
    {
      "cell_type": "markdown",
      "source": [
        "# 10. Write code to demonstrate type casting with list elements."
      ],
      "metadata": {
        "id": "MlMz2yNtrJ8z"
      }
    },
    {
      "cell_type": "code",
      "source": [
        "def type_casting_with_list():\n",
        "    mixed_list = ['10', '3.14', 'True', 'False', '100']\n",
        "    print(f\"Original list: {mixed_list}\")\n",
        "\n",
        "    int_list = [int(i) if i.isdigit() else 0 for i in mixed_list]\n",
        "    float_list = [float(i) if i.replace('.', '', 1).isdigit() else 0.0 for i in mixed_list]\n",
        "    bool_list = [i.lower() == 'true' for i in mixed_list]\n",
        "\n",
        "    print(f\"List with integers: {int_list}\")\n",
        "    print(f\"List with floats: {float_list}\")\n",
        "    print(f\"List with booleans: {bool_list}\")\n",
        "\n",
        "type_casting_with_list()\n"
      ],
      "metadata": {
        "id": "CPuQShiKJxbv",
        "colab": {
          "base_uri": "https://localhost:8080/"
        },
        "outputId": "dde77a84-62de-4e44-97b7-ba810acdb602"
      },
      "execution_count": 26,
      "outputs": [
        {
          "output_type": "stream",
          "name": "stdout",
          "text": [
            "Original list: ['10', '3.14', 'True', 'False', '100']\n",
            "List with integers: [10, 0, 0, 0, 100]\n",
            "List with floats: [10.0, 3.14, 0.0, 0.0, 100.0]\n",
            "List with booleans: [False, False, True, False, False]\n"
          ]
        }
      ]
    },
    {
      "cell_type": "markdown",
      "source": [
        "# 11. Write a program that checks if a number is positive, negative, or zero."
      ],
      "metadata": {
        "id": "LIzKgdAxrOg1"
      }
    },
    {
      "cell_type": "code",
      "source": [
        "def check_number(number):\n",
        "  if number > 0:\n",
        "    print(f\"The number {number} is positive.\")\n",
        "  elif number < 0:\n",
        "        print(f\"The number {number} is negative.\")\n",
        "  else:\n",
        "        print(f\"The number {number} is zero.\")\n",
        "\n",
        "num = float(input(\"Enter a number: \"))\n",
        "\n",
        "check_number(num)\n",
        "\n",
        "\n",
        "\n"
      ],
      "metadata": {
        "id": "OZ0iaCTgJ1cP",
        "colab": {
          "base_uri": "https://localhost:8080/"
        },
        "outputId": "0b259d34-ebd1-4575-f222-0cbcf1be2210"
      },
      "execution_count": 17,
      "outputs": [
        {
          "output_type": "stream",
          "name": "stdout",
          "text": [
            "Enter a number: 5\n",
            "The number 5.0 is positive.\n"
          ]
        }
      ]
    },
    {
      "cell_type": "markdown",
      "source": [
        "# 12. Write a for loop to print numbers from 1 to 10."
      ],
      "metadata": {
        "id": "DdBCQpExrSN9"
      }
    },
    {
      "cell_type": "code",
      "source": [
        "for x in range(1, 11):\n",
        "  print(x)"
      ],
      "metadata": {
        "id": "5EJT17DTJ5t3",
        "colab": {
          "base_uri": "https://localhost:8080/"
        },
        "outputId": "724e73cf-becc-4b86-9fd5-bb6cc2cf945b"
      },
      "execution_count": null,
      "outputs": [
        {
          "output_type": "stream",
          "name": "stdout",
          "text": [
            "1\n",
            "2\n",
            "3\n",
            "4\n",
            "5\n",
            "6\n",
            "7\n",
            "8\n",
            "9\n",
            "10\n"
          ]
        }
      ]
    },
    {
      "cell_type": "markdown",
      "source": [
        "# 13. Write a Python program to find the sum of all even numbers between 1 and 50."
      ],
      "metadata": {
        "id": "kLlpNkF2rWId"
      }
    },
    {
      "cell_type": "code",
      "source": [
        "sum = 0\n",
        "for x in range(1, 50):\n",
        "  if x % 2 == 0 :\n",
        "    sum += x\n",
        "print(sum)"
      ],
      "metadata": {
        "id": "SOQ2hKYWJ_Vn",
        "colab": {
          "base_uri": "https://localhost:8080/"
        },
        "outputId": "19725705-7cfa-4515-cb42-6cf6c7607ea9"
      },
      "execution_count": null,
      "outputs": [
        {
          "output_type": "stream",
          "name": "stdout",
          "text": [
            "600\n"
          ]
        }
      ]
    },
    {
      "cell_type": "markdown",
      "source": [
        "# 14. Write a program to reverse a string using a while loop."
      ],
      "metadata": {
        "id": "lNSknq1BrdRp"
      }
    },
    {
      "cell_type": "code",
      "source": [
        "string = 'ramgopal'\n",
        "reverse_str = \"\"\n",
        "\n",
        "index = len(string) -1\n",
        "while index >= 0:\n",
        "    reverse_str += string[index]\n",
        "    index -= 1\n",
        "\n",
        "print(f\"reverse string is :  {reverse_str}\")\n",
        "\n",
        "\n"
      ],
      "metadata": {
        "colab": {
          "base_uri": "https://localhost:8080/"
        },
        "id": "IbKudrLTKEbs",
        "outputId": "4a56184e-c751-4a19-dc38-5f33e6eb93db"
      },
      "execution_count": null,
      "outputs": [
        {
          "output_type": "stream",
          "name": "stdout",
          "text": [
            "7\n",
            "reverse string is :  lapogmar\n"
          ]
        }
      ]
    },
    {
      "cell_type": "markdown",
      "source": [
        "# 15. Write a Python program to calculate the factorial of a number provided by the user using a while loop.\n",
        "\n",
        "\n"
      ],
      "metadata": {
        "id": "act-JKQhrgrI"
      }
    },
    {
      "cell_type": "code",
      "source": [
        "number = int(input('enter no '))\n",
        "fact_value = 1\n",
        "if number < 0 :\n",
        "  print(\"its fact not exist... \")\n",
        "else:\n",
        "  while number > 1 :\n",
        "    fact_value *= number\n",
        "    number -= 1\n",
        "    print(f\"its factorial is : {fact_value}\")"
      ],
      "metadata": {
        "id": "TW4wIZeCKIYq",
        "colab": {
          "base_uri": "https://localhost:8080/"
        },
        "outputId": "d8f079d0-febc-49f3-d393-416342456aad"
      },
      "execution_count": 27,
      "outputs": [
        {
          "output_type": "stream",
          "name": "stdout",
          "text": [
            "enter no 5\n",
            "its factorial is : 5\n",
            "its factorial is : 20\n",
            "its factorial is : 60\n",
            "its factorial is : 120\n"
          ]
        }
      ]
    }
  ]
}